{
 "cells": [
  {
   "cell_type": "code",
   "execution_count": 1,
   "id": "45aa3cea",
   "metadata": {},
   "outputs": [],
   "source": [
    "import torch\n",
    "from torch import nn\n",
    "from torch.utils.data import DataLoader\n",
    "from torchvision import datasets\n",
    "from torchvision.transforms import ToTensor, Lambda, Compose\n",
    "import matplotlib.pyplot as plt"
   ]
  },
  {
   "cell_type": "code",
   "execution_count": 2,
   "id": "2b507e57",
   "metadata": {},
   "outputs": [],
   "source": [
    "training_data = datasets.FashionMNIST(\n",
    "    root=\"data\",\n",
    "    train=True,\n",
    "    download=True,\n",
    "    transform=ToTensor()\n",
    "    )\n",
    "\n",
    "test_data = datasets.FashionMNIST(\n",
    "    root=\"data\",\n",
    "    train=False,\n",
    "    download=True,\n",
    "    transform=ToTensor()\n",
    ")"
   ]
  },
  {
   "cell_type": "code",
   "execution_count": 3,
   "id": "52208045",
   "metadata": {},
   "outputs": [],
   "source": [
    "batch_size = 64\n",
    "train_dataloader = DataLoader(training_data, batch_size=batch_size)\n",
    "test_dataloader = DataLoader(test_data, batch_size=batch_size)"
   ]
  },
  {
   "cell_type": "code",
   "execution_count": 4,
   "id": "233c8600",
   "metadata": {},
   "outputs": [
    {
     "name": "stdout",
     "output_type": "stream",
     "text": [
      "Shape of X [N, C, H, W]:  torch.Size([64, 1, 28, 28])\n",
      "Shape of y:  torch.Size([64]) torch.int64\n"
     ]
    }
   ],
   "source": [
    "for X,y in test_dataloader:\n",
    "    print(\"Shape of X [N, C, H, W]: \", X.shape)\n",
    "    print(\"Shape of y: \", y.shape, y.dtype)\n",
    "    break"
   ]
  },
  {
   "cell_type": "code",
   "execution_count": 5,
   "id": "848ff285",
   "metadata": {},
   "outputs": [
    {
     "name": "stdout",
     "output_type": "stream",
     "text": [
      "Using cpu\n",
      "NeuralNetwork(\n",
      "  (flatten): Flatten(start_dim=1, end_dim=-1)\n",
      "  (linear_relu_stack): Sequential(\n",
      "    (0): Linear(in_features=784, out_features=512, bias=True)\n",
      "    (1): ReLU()\n",
      "    (2): Linear(in_features=512, out_features=512, bias=True)\n",
      "    (3): ReLU()\n",
      "    (4): Linear(in_features=512, out_features=10, bias=True)\n",
      "  )\n",
      ")\n"
     ]
    }
   ],
   "source": [
    "device = \"cuda\" if torch.cuda.is_available() else \"cpu\"\n",
    "print(f\"Using {device}\")\n",
    "\n",
    "#Define neural network model\n",
    "class NeuralNetwork(nn.Module):\n",
    "    def __init__(self):\n",
    "        super(NeuralNetwork, self).__init__()\n",
    "        self.flatten = nn.Flatten()\n",
    "        self.linear_relu_stack = nn.Sequential(\n",
    "            nn.Linear(28*28, 512),\n",
    "            nn.ReLU(),\n",
    "            nn.Linear(512,512),\n",
    "            nn.ReLU(),\n",
    "            nn.Linear(512,10)    \n",
    "        )\n",
    "    def forward(self, x):\n",
    "        x = self.flatten(x)\n",
    "        logits = self.linear_relu_stack(x)\n",
    "        return logits\n",
    "\n",
    "model = NeuralNetwork().to(device)\n",
    "print(model)\n",
    "        "
   ]
  },
  {
   "cell_type": "markdown",
   "id": "06d9bd95",
   "metadata": {},
   "source": [
    "### Optimizing the model parameters"
   ]
  },
  {
   "cell_type": "code",
   "execution_count": 10,
   "id": "262acb3a",
   "metadata": {},
   "outputs": [],
   "source": [
    "loss_fn = nn.CrossEntropyLoss() #Create loss function \n",
    "optimizer = torch.optim.SGD(model.parameters(), lr=1e-3) # Create optimizer"
   ]
  },
  {
   "cell_type": "code",
   "execution_count": 14,
   "id": "788213b0",
   "metadata": {},
   "outputs": [],
   "source": [
    "# Create function that trains the model (i.e makes predictions on the training dataset and backpropagates)\n",
    "def train(dataloader, model, loss_fn, optimizer):\n",
    "    size = len(dataloader.dataset)\n",
    "    model.train()\n",
    "    for batch, (X,y) in enumerate(dataloader):\n",
    "        X,y = X.to(device), y.to(device)\n",
    "        \n",
    "        #Compute prediction error\n",
    "        pred = model(X)\n",
    "        loss = loss_fn(pred, y)\n",
    "        \n",
    "        #Backpropagation\n",
    "        optimizer.zero_grad()\n",
    "        loss.backward()\n",
    "        optimizer.step()\n",
    "        \n",
    "        if batch % 100 == 0:\n",
    "            loss, current = loss.item(), batch*len(X)\n",
    "            print(f\"Loss: {loss:>7f}  [{current:>5d}/{size:>5d}]\")"
   ]
  },
  {
   "cell_type": "code",
   "execution_count": 12,
   "id": "1f573baa",
   "metadata": {},
   "outputs": [],
   "source": [
    "def test(dataloader, model, loss_fn):\n",
    "    size = len(dataloader.dataset)\n",
    "    num_batches = len(dataloader)\n",
    "    model.eval()\n",
    "    test_loss, correct = 0,0\n",
    "    with torch.no_grad():\n",
    "        for X,y in dataloader:\n",
    "            X, y = X.to(device), y.to(device)\n",
    "            pred = model(X)\n",
    "            test_loss += loss_fn(pred, y).item()\n",
    "            correct += (pred.argmax(1)==y).type(torch.float).sum().item()\n",
    "    test_loss /= num_batches\n",
    "    correct /= size\n",
    "    print(f\"Test Error: \\n Accuracy: {(100*correct):>0.1f}%, Avg loss: {test_loss:>8f} \\n\")"
   ]
  },
  {
   "cell_type": "code",
   "execution_count": 15,
   "id": "1b1243cf",
   "metadata": {
    "scrolled": true
   },
   "outputs": [
    {
     "name": "stdout",
     "output_type": "stream",
     "text": [
      "Epoch 1\n",
      "-------------------------------\n",
      "Loss: 2.310714  [    0/60000]\n",
      "Loss: 2.295768  [ 6400/60000]\n",
      "Loss: 2.270382  [12800/60000]\n",
      "Loss: 2.264269  [19200/60000]\n",
      "Loss: 2.244676  [25600/60000]\n",
      "Loss: 2.217985  [32000/60000]\n",
      "Loss: 2.234011  [38400/60000]\n",
      "Loss: 2.183135  [44800/60000]\n",
      "Loss: 2.184276  [51200/60000]\n",
      "Loss: 2.169603  [57600/60000]\n",
      "Test Error: \n",
      " Accuracy: 49.8%, Avg loss: 2.147696 \n",
      "\n",
      "Epoch 2\n",
      "-------------------------------\n",
      "Loss: 2.158529  [    0/60000]\n",
      "Loss: 2.150285  [ 6400/60000]\n",
      "Loss: 2.084916  [12800/60000]\n",
      "Loss: 2.103717  [19200/60000]\n",
      "Loss: 2.055897  [25600/60000]\n",
      "Loss: 1.990904  [32000/60000]\n",
      "Loss: 2.036990  [38400/60000]\n",
      "Loss: 1.933397  [44800/60000]\n",
      "Loss: 1.942100  [51200/60000]\n",
      "Loss: 1.896919  [57600/60000]\n",
      "Test Error: \n",
      " Accuracy: 54.4%, Avg loss: 1.871465 \n",
      "\n",
      "Epoch 3\n",
      "-------------------------------\n",
      "Loss: 1.904410  [    0/60000]\n",
      "Loss: 1.875768  [ 6400/60000]\n",
      "Loss: 1.748240  [12800/60000]\n",
      "Loss: 1.797260  [19200/60000]\n",
      "Loss: 1.698666  [25600/60000]\n",
      "Loss: 1.644640  [32000/60000]\n",
      "Loss: 1.689404  [38400/60000]\n",
      "Loss: 1.563681  [44800/60000]\n",
      "Loss: 1.592131  [51200/60000]\n",
      "Loss: 1.515293  [57600/60000]\n",
      "Test Error: \n",
      " Accuracy: 61.6%, Avg loss: 1.510667 \n",
      "\n",
      "Epoch 4\n",
      "-------------------------------\n",
      "Loss: 1.573926  [    0/60000]\n",
      "Loss: 1.543121  [ 6400/60000]\n",
      "Loss: 1.387466  [12800/60000]\n",
      "Loss: 1.465278  [19200/60000]\n",
      "Loss: 1.360083  [25600/60000]\n",
      "Loss: 1.344842  [32000/60000]\n",
      "Loss: 1.380528  [38400/60000]\n",
      "Loss: 1.281797  [44800/60000]\n",
      "Loss: 1.320322  [51200/60000]\n",
      "Loss: 1.236840  [57600/60000]\n",
      "Test Error: \n",
      " Accuracy: 63.5%, Avg loss: 1.252282 \n",
      "\n",
      "Epoch 5\n",
      "-------------------------------\n",
      "Loss: 1.325671  [    0/60000]\n",
      "Loss: 1.312689  [ 6400/60000]\n",
      "Loss: 1.145578  [12800/60000]\n",
      "Loss: 1.247820  [19200/60000]\n",
      "Loss: 1.137528  [25600/60000]\n",
      "Loss: 1.147972  [32000/60000]\n",
      "Loss: 1.187194  [38400/60000]\n",
      "Loss: 1.105754  [44800/60000]\n",
      "Loss: 1.147970  [51200/60000]\n",
      "Loss: 1.071537  [57600/60000]\n",
      "Test Error: \n",
      " Accuracy: 64.8%, Avg loss: 1.088706 \n",
      "\n",
      "Done!\n"
     ]
    }
   ],
   "source": [
    "epochs = 5\n",
    "for t in range(epochs):\n",
    "    print(f\"Epoch {t+1}\\n-------------------------------\")\n",
    "    train(train_dataloader, model, loss_fn, optimizer)\n",
    "    test(test_dataloader, model, loss_fn)\n",
    "print(\"Done!\")"
   ]
  },
  {
   "cell_type": "code",
   "execution_count": 16,
   "id": "ed915b44",
   "metadata": {
    "scrolled": true
   },
   "outputs": [
    {
     "name": "stdout",
     "output_type": "stream",
     "text": [
      "Saved model to model.pth\n"
     ]
    }
   ],
   "source": [
    "torch.save(model.state_dict(), \"model.pth\")\n",
    "print(\"Saved model to model.pth\")"
   ]
  },
  {
   "cell_type": "code",
   "execution_count": 18,
   "id": "147253d8",
   "metadata": {},
   "outputs": [
    {
     "data": {
      "text/plain": [
       "<All keys matched successfully>"
      ]
     },
     "execution_count": 18,
     "metadata": {},
     "output_type": "execute_result"
    }
   ],
   "source": [
    "#model.pth can now be loaded to a fresh model and be reused\n",
    "model = NeuralNetwork()\n",
    "model.load_state_dict(torch.load(\"model.pth\"))"
   ]
  },
  {
   "cell_type": "code",
   "execution_count": 22,
   "id": "ee76bbdc",
   "metadata": {},
   "outputs": [
    {
     "name": "stdout",
     "output_type": "stream",
     "text": [
      "Predicted: \"Ankle boot\", Actual: \"Ankle boot\"\n"
     ]
    }
   ],
   "source": [
    "classes = [\n",
    "    \"T-shirt/top\",\n",
    "    \"Trouser\",\n",
    "    \"Pullover\",\n",
    "    \"Dress\",\n",
    "    \"Coat\",\n",
    "    \"Sandal\",\n",
    "    \"Shirt\",\n",
    "    \"Sneaker\",\n",
    "    \"Bag\",\n",
    "    \"Ankle boot\",\n",
    "]\n",
    "\n",
    "model.eval()\n",
    "x, y = test_data[0][0], test_data[0][1]\n",
    "with torch.no_grad():\n",
    "    pred = model(x)\n",
    "    predicted, actual = classes[pred[0].argmax(0)], classes[y]\n",
    "    print(f'Predicted: \"{predicted}\", Actual: \"{actual}\"')\n"
   ]
  }
 ],
 "metadata": {
  "kernelspec": {
   "display_name": "Python 3 (ipykernel)",
   "language": "python",
   "name": "python3"
  },
  "language_info": {
   "codemirror_mode": {
    "name": "ipython",
    "version": 3
   },
   "file_extension": ".py",
   "mimetype": "text/x-python",
   "name": "python",
   "nbconvert_exporter": "python",
   "pygments_lexer": "ipython3",
   "version": "3.8.10"
  }
 },
 "nbformat": 4,
 "nbformat_minor": 5
}
