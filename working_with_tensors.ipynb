{
 "cells": [
  {
   "cell_type": "code",
   "execution_count": 1,
   "id": "e3d6715e",
   "metadata": {},
   "outputs": [],
   "source": [
    "import torch\n",
    "import numpy as np"
   ]
  },
  {
   "cell_type": "code",
   "execution_count": 2,
   "id": "51ad4766",
   "metadata": {},
   "outputs": [],
   "source": [
    "# Tensor initialization\n",
    "data = [[1,2],[3,4]]\n",
    "x_data = torch.tensor(data)"
   ]
  },
  {
   "cell_type": "code",
   "execution_count": 3,
   "id": "a329810c",
   "metadata": {},
   "outputs": [
    {
     "data": {
      "text/plain": [
       "tensor([[1, 2],\n",
       "        [3, 4]])"
      ]
     },
     "execution_count": 3,
     "metadata": {},
     "output_type": "execute_result"
    }
   ],
   "source": [
    "x_data"
   ]
  },
  {
   "cell_type": "code",
   "execution_count": 4,
   "id": "f25558be",
   "metadata": {},
   "outputs": [],
   "source": [
    "# Bridging to/from numpy\n",
    "np_data = np.array(data)\n",
    "x_np = torch.tensor(np_data)"
   ]
  },
  {
   "cell_type": "code",
   "execution_count": 5,
   "id": "e1bd2d3f",
   "metadata": {},
   "outputs": [
    {
     "name": "stdout",
     "output_type": "stream",
     "text": [
      "Ones tensor: \n",
      " tensor([[1, 1],\n",
      "        [1, 1]])\n",
      "\n",
      "Random tensor: \n",
      " tensor([[0.3624, 0.5809],\n",
      "        [0.8929, 0.5550]])\n",
      "\n"
     ]
    }
   ],
   "source": [
    "# From another tensor\n",
    "x_ones = torch.ones_like(x_data)\n",
    "print(f\"Ones tensor: \\n {x_ones}\\n\")\n",
    "x_rand = torch.rand_like(x_data, dtype=torch.float)\n",
    "print(f\"Random tensor: \\n {x_rand}\\n\")"
   ]
  },
  {
   "cell_type": "code",
   "execution_count": 6,
   "id": "3bdb2372",
   "metadata": {},
   "outputs": [
    {
     "name": "stdout",
     "output_type": "stream",
     "text": [
      "tensor([[1., 1., 1.],\n",
      "        [1., 1., 1.]])\n",
      "tensor([[0.1117, 0.9564, 0.2316],\n",
      "        [0.9554, 0.5912, 0.0590]])\n",
      "tensor([[0., 0., 0.],\n",
      "        [0., 0., 0.]])\n"
     ]
    }
   ],
   "source": [
    "#With dimensionality tuple\n",
    "shape = (2,3)\n",
    "rand_tensor = torch.rand(shape)\n",
    "ones_tensor = torch.ones(shape)\n",
    "zeros_tensor = torch.zeros(shape)\n",
    "\n",
    "print(ones_tensor)\n",
    "print(rand_tensor)\n",
    "print(zeros_tensor)"
   ]
  },
  {
   "cell_type": "markdown",
   "id": "4dc9f095",
   "metadata": {},
   "source": [
    "### Tensor Attributes"
   ]
  },
  {
   "cell_type": "code",
   "execution_count": 7,
   "id": "18a75fc3",
   "metadata": {},
   "outputs": [
    {
     "name": "stdout",
     "output_type": "stream",
     "text": [
      "Tensor is of shape: torch.Size([3, 4])\n",
      "Tensor if of type: torch.float32\n",
      "Tensor is stored on: cpu\n"
     ]
    }
   ],
   "source": [
    "\n",
    "tensor = torch.rand(3,4)\n",
    "print(f\"Tensor is of shape: {tensor.shape}\")\n",
    "print(f\"Tensor if of type: {tensor.dtype}\")\n",
    "print(f\"Tensor is stored on: {tensor.device}\")"
   ]
  },
  {
   "cell_type": "markdown",
   "id": "e27c588d",
   "metadata": {},
   "source": [
    "### Tensor Operations\n",
    "There are tons of tensor operations, which can be found here: https://pytorch.org/docs/stable/torch.html"
   ]
  },
  {
   "cell_type": "code",
   "execution_count": 8,
   "id": "5bd27e8a",
   "metadata": {},
   "outputs": [],
   "source": [
    "# Move tensor to GPU if possible (in my case it is not. Doing it on a macbook)\n",
    "if torch.cuda.is_available():\n",
    "    tensor = tensor.to(\"cuda\")"
   ]
  },
  {
   "cell_type": "code",
   "execution_count": 9,
   "id": "e9a053a1",
   "metadata": {},
   "outputs": [
    {
     "name": "stdout",
     "output_type": "stream",
     "text": [
      "tensor([[1., 1., 1., 0., 1.],\n",
      "        [1., 1., 1., 0., 1.],\n",
      "        [1., 1., 1., 0., 1.],\n",
      "        [1., 1., 1., 0., 1.],\n",
      "        [1., 1., 1., 0., 1.]])\n"
     ]
    }
   ],
   "source": [
    "# Numpy like indexing\n",
    "tensor = torch.ones(5,5)\n",
    "tensor[:,3] = 0\n",
    "print(tensor)"
   ]
  },
  {
   "cell_type": "code",
   "execution_count": 10,
   "id": "69f84a4b",
   "metadata": {},
   "outputs": [
    {
     "name": "stdout",
     "output_type": "stream",
     "text": [
      "tensor([[1., 1., 1., 0., 1.],\n",
      "        [1., 1., 1., 0., 1.],\n",
      "        [1., 1., 1., 0., 1.],\n",
      "        [1., 1., 1., 0., 1.],\n",
      "        [1., 1., 1., 0., 1.],\n",
      "        [1., 1., 1., 0., 1.],\n",
      "        [1., 1., 1., 0., 1.],\n",
      "        [1., 1., 1., 0., 1.],\n",
      "        [1., 1., 1., 0., 1.],\n",
      "        [1., 1., 1., 0., 1.],\n",
      "        [1., 1., 1., 0., 1.],\n",
      "        [1., 1., 1., 0., 1.],\n",
      "        [1., 1., 1., 0., 1.],\n",
      "        [1., 1., 1., 0., 1.],\n",
      "        [1., 1., 1., 0., 1.]])\n"
     ]
    }
   ],
   "source": [
    "t1 = torch.cat([tensor, tensor, tensor], dim=0) #torch.stack is slightly different\n",
    "print(t1)"
   ]
  },
  {
   "cell_type": "code",
   "execution_count": 11,
   "id": "a6cdc7a9",
   "metadata": {},
   "outputs": [
    {
     "name": "stdout",
     "output_type": "stream",
     "text": [
      "tensor([[[1., 1., 1., 0., 1.],\n",
      "         [1., 1., 1., 0., 1.],\n",
      "         [1., 1., 1., 0., 1.],\n",
      "         [1., 1., 1., 0., 1.],\n",
      "         [1., 1., 1., 0., 1.]],\n",
      "\n",
      "        [[1., 1., 1., 0., 1.],\n",
      "         [1., 1., 1., 0., 1.],\n",
      "         [1., 1., 1., 0., 1.],\n",
      "         [1., 1., 1., 0., 1.],\n",
      "         [1., 1., 1., 0., 1.]],\n",
      "\n",
      "        [[1., 1., 1., 0., 1.],\n",
      "         [1., 1., 1., 0., 1.],\n",
      "         [1., 1., 1., 0., 1.],\n",
      "         [1., 1., 1., 0., 1.],\n",
      "         [1., 1., 1., 0., 1.]]])\n"
     ]
    }
   ],
   "source": [
    "t2 = torch.stack([tensor, tensor, tensor], dim=0)\n",
    "print(t2)"
   ]
  },
  {
   "cell_type": "code",
   "execution_count": 12,
   "id": "cfe692d9",
   "metadata": {},
   "outputs": [
    {
     "name": "stdout",
     "output_type": "stream",
     "text": [
      "tensor([[0.0385, 0.6992, 0.9481],\n",
      "        [0.0635, 0.1001, 0.3109]], dtype=torch.float64)\n",
      "\n",
      "tensor.mul(tensor): \n",
      "tensor([[0.0015, 0.4889, 0.8990],\n",
      "        [0.0040, 0.0100, 0.0966]], dtype=torch.float64))\n",
      "\n",
      "tensor*tensor: \n",
      "tensor([[0.0015, 0.4889, 0.8990],\n",
      "        [0.0040, 0.0100, 0.0966]], dtype=torch.float64))\n"
     ]
    }
   ],
   "source": [
    "#Multiplying tensors\n",
    "#Element wise multiplying\n",
    "tensor = torch.rand((2,3), dtype=float)\n",
    "print(tensor)\n",
    "print(f\"\\ntensor.mul(tensor): \\n{tensor.mul(tensor)})\\n\")\n",
    "print(f\"tensor*tensor: \\n{tensor*tensor})\")"
   ]
  },
  {
   "cell_type": "code",
   "execution_count": 13,
   "id": "29ba0c35",
   "metadata": {},
   "outputs": [
    {
     "name": "stdout",
     "output_type": "stream",
     "text": [
      "tensor.matmul(tensor.T):\n",
      " tensor([[1.3894, 0.3671],\n",
      "        [0.3671, 0.1107]], dtype=torch.float64)\n",
      "\n",
      "tensor @ tensor.T: \n",
      " tensor([[1.3894, 0.3671],\n",
      "        [0.3671, 0.1107]], dtype=torch.float64)\n"
     ]
    }
   ],
   "source": [
    "#Matrix multiplication of two tensors\n",
    "print(f\"tensor.matmul(tensor.T):\\n {tensor.matmul(tensor.T)}\")\n",
    "#Alternative syntax\n",
    "print(f\"\\ntensor @ tensor.T: \\n {tensor @ tensor.T}\")"
   ]
  },
  {
   "cell_type": "code",
   "execution_count": 14,
   "id": "fc84f2bc",
   "metadata": {},
   "outputs": [
    {
     "name": "stdout",
     "output_type": "stream",
     "text": [
      "tensor([[0.0385, 0.6992, 0.9481],\n",
      "        [0.0635, 0.1001, 0.3109]], dtype=torch.float64) \n",
      "\n",
      "tensor([[5.0385, 5.6992, 5.9481],\n",
      "        [5.0635, 5.1001, 5.3109]], dtype=torch.float64)\n"
     ]
    }
   ],
   "source": [
    "# Operations with _ in suffix will change the variable in-place\n",
    "print(tensor,\"\\n\")\n",
    "tensor.add_(5)\n",
    "print(tensor)\n",
    "\n",
    "#NOTE: In-place operations save some memory, but can be problematic when \n",
    "#computing derivatives because of an immediate loss of history. \n",
    "#Hence, their use is discouraged."
   ]
  },
  {
   "cell_type": "markdown",
   "id": "f5bc3f12",
   "metadata": {},
   "source": [
    "### Bridge with Numpy"
   ]
  },
  {
   "cell_type": "code",
   "execution_count": 26,
   "id": "645da76f",
   "metadata": {},
   "outputs": [
    {
     "name": "stdout",
     "output_type": "stream",
     "text": [
      "tensor([1., 1., 1., 1., 1.])\n",
      "t: tensor([4., 4., 4., 4., 4.])\n",
      "n: [4. 4. 4. 4. 4.]\n"
     ]
    }
   ],
   "source": [
    "#Tensors on the CPU and NumPy arrays can share their underlying memory locations, \n",
    "#and changing one will change the other.\n",
    "t = torch.ones(5)\n",
    "print(t)\n",
    "n = t.numpy()\n",
    "\n",
    "t.add_(3)\n",
    "print(f\"t: {t}\")\n",
    "print(f\"n: {n}\")"
   ]
  },
  {
   "cell_type": "code",
   "execution_count": 30,
   "id": "b8488bab",
   "metadata": {},
   "outputs": [
    {
     "name": "stdout",
     "output_type": "stream",
     "text": [
      "[2. 2. 2.]\n",
      "tensor([2., 2., 2.], dtype=torch.float64)\n",
      "[3. 3. 3.]\n",
      "tensor([3., 3., 3.], dtype=torch.float64)\n"
     ]
    }
   ],
   "source": [
    "n = np.ones(3)\n",
    "t = torch.from_numpy(n)\n",
    "#Changes in one will affect the other\n",
    "np.add(n, 1, out=n)\n",
    "print(n)\n",
    "print(t)\n",
    "t.add_(1)\n",
    "print(n)\n",
    "print(t)"
   ]
  },
  {
   "cell_type": "code",
   "execution_count": 29,
   "id": "1e81f5cf",
   "metadata": {},
   "outputs": [
    {
     "name": "stdout",
     "output_type": "stream",
     "text": [
      "[3. 3. 3.]\n"
     ]
    }
   ],
   "source": []
  }
 ],
 "metadata": {
  "kernelspec": {
   "display_name": "Python 3 (ipykernel)",
   "language": "python",
   "name": "python3"
  },
  "language_info": {
   "codemirror_mode": {
    "name": "ipython",
    "version": 3
   },
   "file_extension": ".py",
   "mimetype": "text/x-python",
   "name": "python",
   "nbconvert_exporter": "python",
   "pygments_lexer": "ipython3",
   "version": "3.8.10"
  }
 },
 "nbformat": 4,
 "nbformat_minor": 5
}
